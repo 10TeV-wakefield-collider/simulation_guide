{
 "cells": [
  {
   "cell_type": "markdown",
   "id": "0948e74d-824a-42e5-aa97-8d934ec2b7e1",
   "metadata": {},
   "source": [
    "# Visualizing the beams with Guinea-Pig and WarpX"
   ]
  },
  {
   "cell_type": "code",
   "execution_count": null,
   "id": "a9610ba1-785a-434b-881b-7cd5b3685886",
   "metadata": {},
   "outputs": [],
   "source": [
    "import os, sys\n",
    "import numpy as np \n",
    "import matplotlib.pyplot as plt\n",
    "from openpmd_viewer import OpenPMDTimeSeries\n",
    "from scipy.constants import c, micro, nano, pi"
   ]
  },
  {
   "cell_type": "markdown",
   "id": "9dd0fb66-951e-4e23-8aa9-c3da6d34bbff",
   "metadata": {},
   "source": [
    "## Collider parameters"
   ]
  },
  {
   "cell_type": "code",
   "execution_count": null,
   "id": "e824894f-3aed-408e-9334-b3cad8c96d14",
   "metadata": {},
   "outputs": [],
   "source": [
    "sigmaz = 100*micro\n",
    "sigmax = 210*nano\n",
    "sigmay = 3.1*nano\n",
    "npart = 6.24e9\n",
    "n0 = npart / (sigmax * sigmay * sigmaz * (2.*pi)**(3./2.))"
   ]
  },
  {
   "cell_type": "markdown",
   "id": "da03e387-6c58-4ddd-9f91-4821f04fafac",
   "metadata": {},
   "source": [
    "## Simulation parameters"
   ]
  },
  {
   "cell_type": "code",
   "execution_count": null,
   "id": "0b01293c-2bfe-49be-8511-605dd0b50ed8",
   "metadata": {},
   "outputs": [],
   "source": [
    "# time\n",
    "n_iterations = 256\n",
    "iterations = range(n_iterations)\n",
    "# box\n",
    "nx = 512\n",
    "ny = 512\n",
    "nz = 512\n",
    "Lx = 20*sigmax\n",
    "Ly = 20*sigmay\n",
    "Lz = 16*sigmaz \n",
    "gridx = np.linspace(-0.5*Lx, 0.5*Lx, nx+1)\n",
    "gridy = np.linspace(-0.5*Ly, 0.5*Ly, ny+1)\n",
    "gridz = np.linspace(-0.5*Lz, 0.5*Lz, nz+1)\n",
    "dx = gridx[1]-gridx[0]\n",
    "dy = gridy[1]-gridy[0]\n",
    "dz = gridz[1]-gridz[0]\n",
    "# particles\n",
    "nmacropart = 1e5\n",
    "w0 = npart / nmacropart # weight"
   ]
  },
  {
   "cell_type": "markdown",
   "id": "1a103a6c-4b20-4ced-b5d9-320a35be8f27",
   "metadata": {},
   "source": [
    "## Function to plot a single Guine-Pig step"
   ]
  },
  {
   "cell_type": "code",
   "execution_count": null,
   "id": "82796273-3440-4e56-bdd3-c1ee81c90029",
   "metadata": {},
   "outputs": [],
   "source": [
    "def one_step_gp(n, gp_dir):\n",
    "    '''\n",
    "    inputs\n",
    "        n: current timestep\n",
    "        gp_dir: simulation folder \n",
    "    outputs\n",
    "        H_zx, H_zy: density of the beams integrated along y and x, resp\n",
    "    '''\n",
    "    global w0, dx, dy, dz, gridx, gridy, gridz\n",
    "    \n",
    "    # get beams' data, columns are:\n",
    "    # Particle Energy [GeV] | x [um] | y [um] | z [um] | x' [urad] | y' [urad] \n",
    "    data1 = np.loadtxt(os.path.join(gp_dir, 'b1.%d' % n))\n",
    "    data2 = np.loadtxt(os.path.join(gp_dir, 'b2.%d' % n))\n",
    "\n",
    "    # get the number of macroparticles in the beams\n",
    "    N1 = np.shape(data1)[0]\n",
    "    N2 = np.shape(data2)[0]\n",
    "\n",
    "    # stack the data together and convert to SI\n",
    "    x_data = np.hstack((data1[:,1], data2[:,1]))*micro\n",
    "    y_data = np.hstack((data1[:,2], data2[:,2]))*micro\n",
    "    z_data = np.hstack((data1[:,3], data2[:,3]))*micro\n",
    "\n",
    "    weights = np.ones(N1+N2) * w0\n",
    "    weights[-N2:] = - w0 # assign negative weights to the second beam\n",
    "\n",
    "    H_zx, bx, bz = np.histogram2d(x_data, z_data, bins=(gridx, gridz), weights=weights)\n",
    "    H_zy, by, bz = np.histogram2d(y_data, z_data, bins=(gridy, gridz), weights=weights)\n",
    "\n",
    "    print(np.max(np.abs(H_zx)), np.max(np.abs(H_zy)))\n",
    "\n",
    "    return H_zx/(dz*dx), H_zy/(dz*dy)\n"
   ]
  },
  {
   "cell_type": "markdown",
   "id": "ade68b9e-6d86-4d9c-a429-e6356fc52bac",
   "metadata": {},
   "source": [
    "## Function to plot a single WarpX step"
   ]
  },
  {
   "cell_type": "code",
   "execution_count": null,
   "id": "4c9978f1-c8c5-4894-b2ab-29b04fef3824",
   "metadata": {},
   "outputs": [],
   "source": [
    "def one_step_wx(n, wx_series):\n",
    "    '''\n",
    "    inputs\n",
    "        n: current timestep\n",
    "        wx_dir: simulation folder \n",
    "    outputs\n",
    "        H_zx: density of the beams projected on the plane (z,x), integrated along y\n",
    "        H_zy: density of the beams projected on the plane (z,y), integrated along x\n",
    "    '''    \n",
    "    global dx, dy, dz, gridx, gridy, gridz\n",
    "\n",
    "    x1,y1,z1,w1 = wx_series.get_particle(['x','y','z','w'], species='beam1', iteration=n)\n",
    "    x2,y2,z2,w2 = wx_series.get_particle(['x','y','z','w'], species='beam2', iteration=n)\n",
    "    w1 = -w1\n",
    "    X = np.hstack((x1,x2))\n",
    "    Y = np.hstack((y1,y2))\n",
    "    Z = np.hstack((z1,z2))\n",
    "    W = np.hstack((w1,w2))\n",
    "\n",
    "    H_zx, bx, bz = np.histogram2d(X, Z, bins=(gridx, gridz), weights=W)\n",
    "    H_zy, by, bz = np.histogram2d(Y, Z, bins=(gridy, gridz), weights=W)\n",
    "\n",
    "    print(np.max(np.abs(H_zx)), np.max(np.abs(H_zy)))\n",
    "\n",
    "    return H_zx/(dz*dx), H_zy/(dz*dy)\n"
   ]
  },
  {
   "cell_type": "markdown",
   "id": "94c298f1-211c-4165-a9bb-d90cd33b6f1c",
   "metadata": {},
   "source": [
    "## Generate a video of the colliding beams"
   ]
  },
  {
   "cell_type": "code",
   "execution_count": null,
   "id": "53ca5f4e-0ee8-4be6-b775-f782d6b1f5c5",
   "metadata": {},
   "outputs": [],
   "source": [
    "!mkdir -p \"plots\"\n",
    "\n",
    "gp_dir = \"gp\"\n",
    "wx_dir = \"wx\"\n",
    "\n",
    "path=os.path.join(wx_dir, 'diags/trajs')\n",
    "series = OpenPMDTimeSeries(path)\n",
    "\n",
    "v0 = n0 * np.sqrt(sigmax * sigmay) * 0.05\n",
    "extent_zx = [gridz[0]/micro, gridz[-1]/micro, gridx[0]/nano, gridx[-1]/nano]\n",
    "extent_zy = [gridz[0]/micro, gridz[-1]/micro, gridy[0]/nano, gridy[-1]/nano]\n",
    "\n",
    "plt.rcParams.update({'font.size': 16})\n",
    "\n",
    "# loop through the timesteps\n",
    "for n in iterations:\n",
    "\n",
    "    # prepare canvas\n",
    "    fig, ax = plt.subplots(ncols=2, nrows=2, figsize=(16,12), dpi=300, sharex='col', sharey='row')\n",
    "    \n",
    "    H_zx, H_zy = one_step_gp(n, gp_dir)\n",
    "    im=ax[0][0].imshow(H_zx, extent=extent_zx, cmap='seismic', origin='lower', interpolation='nearest', vmin=-v0, vmax=v0)\n",
    "    im=ax[1][0].imshow(H_zy, extent=extent_zy, cmap='seismic', origin='lower', interpolation='nearest', vmin=-v0, vmax=v0)\n",
    "    ax[0][0].set_title(\"Guinea-Pig\")\n",
    "\n",
    "    \n",
    "    H_zx, H_zy = one_step_wx(n, series)\n",
    "    im=ax[0][1].imshow(H_zx, extent=extent_zx, cmap='seismic', origin='lower', interpolation='nearest', vmin=-v0, vmax=v0)\n",
    "    im=ax[1][1].imshow(H_zy, extent=extent_zy, cmap='seismic', origin='lower', interpolation='nearest', vmin=-v0, vmax=v0)\n",
    "    ax[0][1].set_title(\"WarpX\")\n",
    "\n",
    "    fig.subplots_adjust(right=0.85)\n",
    "    cbar_ax = fig.add_axes([0.88, 0.085, 0.015, 0.87])\n",
    "    fig.colorbar(im, cax=cbar_ax, label='density [arb. units]')\n",
    "\n",
    "    for a in ax.reshape(-1):\n",
    "        a.set_aspect('auto')\n",
    "    \n",
    "    ax[1][0].set_xlabel(r'z [$\\mu$m]')\n",
    "    ax[1][1].set_xlabel(r'z [$\\mu$m]')\n",
    "    \n",
    "    ax[0][0].set_ylabel(r'x [nm]')\n",
    "    ax[1][0].set_ylabel(r'y [nm]')\n",
    "\n",
    "    plt.savefig(f\"plots/img_{n:04d}\",dpi=300, bbox_inches='tight') \n",
    "    plt.close(\"all\")"
   ]
  },
  {
   "cell_type": "code",
   "execution_count": null,
   "id": "00c4a562-1bfb-49f5-971b-e9cce3bd962e",
   "metadata": {},
   "outputs": [],
   "source": [
    "! ffmpeg -framerate 30 -i 'plots/img_%04d.png' -y out.mp4"
   ]
  },
  {
   "cell_type": "code",
   "execution_count": null,
   "id": "12c05c20-b054-42e9-a83b-175dfe4d42d1",
   "metadata": {},
   "outputs": [],
   "source": [
    "from IPython.display import Video, display\n",
    "display(Video(\"out.mp4\", embed=True))"
   ]
  }
 ],
 "metadata": {
  "kernelspec": {
   "display_name": "Python 3 (ipykernel)",
   "language": "python",
   "name": "python3"
  },
  "language_info": {
   "codemirror_mode": {
    "name": "ipython",
    "version": 3
   },
   "file_extension": ".py",
   "mimetype": "text/x-python",
   "name": "python",
   "nbconvert_exporter": "python",
   "pygments_lexer": "ipython3",
   "version": "3.13.2"
  }
 },
 "nbformat": 4,
 "nbformat_minor": 5
}
